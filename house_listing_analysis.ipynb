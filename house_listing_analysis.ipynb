{
 "cells": [
  {
   "cell_type": "code",
   "execution_count": 14,
   "metadata": {},
   "outputs": [
    {
     "name": "stderr",
     "output_type": "stream",
     "text": [
      "C:\\Users\\jonat\\AppData\\Local\\Temp\\ipykernel_15464\\165710659.py:14: SettingWithCopyWarning: \n",
      "A value is trying to be set on a copy of a slice from a DataFrame.\n",
      "Try using .loc[row_indexer,col_indexer] = value instead\n",
      "\n",
      "See the caveats in the documentation: https://pandas.pydata.org/pandas-docs/stable/user_guide/indexing.html#returning-a-view-versus-a-copy\n",
      "  df_clean[col] = pd.to_numeric(df_clean[col], errors='coerce')\n"
     ]
    }
   ],
   "source": [
    "import pandas as pd\n",
    "import numpy as np\n",
    "\n",
    "df = pd.read_csv('data/cleaned_df.csv')\n",
    "\n",
    "key_columns = ['State', 'City', 'Bedroom', 'Bathroom', 'ListedPrice', \n",
    "               'MarketEstimate', 'Area', 'PPSq', 'LotArea', \n",
    "               'RentEstimate', 'Latitude', 'Longitude']\n",
    "df_clean = df.dropna(subset=key_columns)\n",
    "\n",
    "numeric_columns = ['Bedroom', 'Bathroom', 'ListedPrice', 'MarketEstimate', \n",
    "                   'Area', 'PPSq', 'LotArea', 'RentEstimate']\n",
    "for col in numeric_columns:\n",
    "    df_clean[col] = pd.to_numeric(df_clean[col], errors='coerce')\n",
    "df_clean = df_clean.dropna(subset=numeric_columns)\n",
    "\n",
    "df_clean = df_clean.drop_duplicates()\n",
    "\n",
    "df_clean['TotalAmenities'] = df_clean['Bedroom'] + df_clean['Bathroom']"
   ]
  }
 ],
 "metadata": {
  "kernelspec": {
   "display_name": "base",
   "language": "python",
   "name": "python3"
  },
  "language_info": {
   "codemirror_mode": {
    "name": "ipython",
    "version": 3
   },
   "file_extension": ".py",
   "mimetype": "text/x-python",
   "name": "python",
   "nbconvert_exporter": "python",
   "pygments_lexer": "ipython3",
   "version": "3.12.4"
  }
 },
 "nbformat": 4,
 "nbformat_minor": 2
}
